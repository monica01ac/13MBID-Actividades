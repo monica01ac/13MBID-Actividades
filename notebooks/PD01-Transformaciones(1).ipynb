{
 "cells": [
  {
   "cell_type": "markdown",
   "metadata": {},
   "source": [
    "## Máster en Big Data y Data Science\n",
    "\n",
    "### Metodologías de gestión y diseño de proyectos de big data\n",
    "\n",
    "#### AP1 - Preparación de los datos\n",
    "\n",
    "---\n",
    "\n",
    "En esta libreta se realizan las transforamciones sobre los datasets del escenario en función \n",
    "de los resultados de la verificación de calidad de datos. \n",
    "\n",
    "---"
   ]
  },
  {
   "cell_type": "code",
   "execution_count": 1,
   "metadata": {},
   "outputs": [],
   "source": [
    "#Se importan las librerias a utilizar\n",
    "\n",
    "import pandas as pd"
   ]
  },
  {
   "cell_type": "markdown",
   "metadata": {},
   "source": [
    "----\n",
    "\n",
    "##### Lectura de los datasets"
   ]
  },
  {
   "cell_type": "code",
   "execution_count": 3,
   "metadata": {},
   "outputs": [
    {
     "data": {
      "text/html": [
       "<div>\n",
       "<style scoped>\n",
       "    .dataframe tbody tr th:only-of-type {\n",
       "        vertical-align: middle;\n",
       "    }\n",
       "\n",
       "    .dataframe tbody tr th {\n",
       "        vertical-align: top;\n",
       "    }\n",
       "\n",
       "    .dataframe thead th {\n",
       "        text-align: right;\n",
       "    }\n",
       "</style>\n",
       "<table border=\"1\" class=\"dataframe\">\n",
       "  <thead>\n",
       "    <tr style=\"text-align: right;\">\n",
       "      <th></th>\n",
       "      <th>id_cliente</th>\n",
       "      <th>edad</th>\n",
       "      <th>importe_solicitado</th>\n",
       "      <th>duracion_credito</th>\n",
       "      <th>antiguedad_empleado</th>\n",
       "      <th>situacion_vivienda</th>\n",
       "      <th>ingresos</th>\n",
       "      <th>objetivo_credito</th>\n",
       "      <th>pct_ingreso</th>\n",
       "      <th>tasa_interes</th>\n",
       "      <th>estado_credito</th>\n",
       "      <th>falta_pago</th>\n",
       "    </tr>\n",
       "  </thead>\n",
       "  <tbody>\n",
       "    <tr>\n",
       "      <th>0</th>\n",
       "      <td>713061558.0</td>\n",
       "      <td>22</td>\n",
       "      <td>35000</td>\n",
       "      <td>3</td>\n",
       "      <td>123.0</td>\n",
       "      <td>ALQUILER</td>\n",
       "      <td>59000</td>\n",
       "      <td>PERSONAL</td>\n",
       "      <td>0.59</td>\n",
       "      <td>16.02</td>\n",
       "      <td>1</td>\n",
       "      <td>Y</td>\n",
       "    </tr>\n",
       "  </tbody>\n",
       "</table>\n",
       "</div>"
      ],
      "text/plain": [
       "    id_cliente  edad  importe_solicitado  duracion_credito  \\\n",
       "0  713061558.0    22               35000                 3   \n",
       "\n",
       "   antiguedad_empleado situacion_vivienda  ingresos objetivo_credito  \\\n",
       "0                123.0           ALQUILER     59000         PERSONAL   \n",
       "\n",
       "   pct_ingreso  tasa_interes  estado_credito falta_pago  \n",
       "0         0.59         16.02               1          Y  "
      ]
     },
     "metadata": {},
     "output_type": "display_data"
    },
    {
     "data": {
      "text/html": [
       "<div>\n",
       "<style scoped>\n",
       "    .dataframe tbody tr th:only-of-type {\n",
       "        vertical-align: middle;\n",
       "    }\n",
       "\n",
       "    .dataframe tbody tr th {\n",
       "        vertical-align: top;\n",
       "    }\n",
       "\n",
       "    .dataframe thead th {\n",
       "        text-align: right;\n",
       "    }\n",
       "</style>\n",
       "<table border=\"1\" class=\"dataframe\">\n",
       "  <thead>\n",
       "    <tr style=\"text-align: right;\">\n",
       "      <th></th>\n",
       "      <th>id_cliente</th>\n",
       "      <th>antiguedad_cliente</th>\n",
       "      <th>estado_civil</th>\n",
       "      <th>estado_cliente</th>\n",
       "      <th>gastos_ult_12m</th>\n",
       "      <th>genero</th>\n",
       "      <th>limite_credito_tc</th>\n",
       "      <th>nivel_educativo</th>\n",
       "      <th>nivel_tarjeta</th>\n",
       "      <th>operaciones_ult_12m</th>\n",
       "      <th>personas_a_cargo</th>\n",
       "    </tr>\n",
       "  </thead>\n",
       "  <tbody>\n",
       "    <tr>\n",
       "      <th>0</th>\n",
       "      <td>713061558.0</td>\n",
       "      <td>36.0</td>\n",
       "      <td>CASADO</td>\n",
       "      <td>ACTIVO</td>\n",
       "      <td>1088.0</td>\n",
       "      <td>M</td>\n",
       "      <td>4010.0</td>\n",
       "      <td>UNIVERSITARIO_COMPLETO</td>\n",
       "      <td>Blue</td>\n",
       "      <td>24.0</td>\n",
       "      <td>2.0</td>\n",
       "    </tr>\n",
       "  </tbody>\n",
       "</table>\n",
       "</div>"
      ],
      "text/plain": [
       "    id_cliente  antiguedad_cliente estado_civil estado_cliente  \\\n",
       "0  713061558.0                36.0       CASADO         ACTIVO   \n",
       "\n",
       "   gastos_ult_12m genero  limite_credito_tc         nivel_educativo  \\\n",
       "0          1088.0      M             4010.0  UNIVERSITARIO_COMPLETO   \n",
       "\n",
       "  nivel_tarjeta  operaciones_ult_12m  personas_a_cargo  \n",
       "0          Blue                 24.0               2.0  "
      ]
     },
     "metadata": {},
     "output_type": "display_data"
    }
   ],
   "source": [
    "df_creditos = pd.read_csv(\"../data/processed/datos_creditos_c.csv\", sep=\";\")\n",
    "display(df_creditos.head(1))\n",
    "\n",
    "df_tarjetas = pd.read_csv(\"../data/processed/datos_tarjetas_c.csv\", sep=\";\")\n",
    "display(df_tarjetas.head(1))"
   ]
  },
  {
   "cell_type": "markdown",
   "metadata": {},
   "source": [
    "---\n",
    "#### Aplicación de transformaciones\n",
    "\n",
    "**Operaciones a realizar**\n",
    "\n",
    "1. Selección de columnas\n",
    "2. Filtrado de filas\n",
    "3. Construcción de atributos\n",
    "4. Integración de datasets\n",
    "5. Formateo definitivo\n"
   ]
  },
  {
   "cell_type": "markdown",
   "metadata": {},
   "source": [
    "----\n",
    "\n",
    "Selección de datos"
   ]
  },
  {
   "cell_type": "code",
   "execution_count": 12,
   "metadata": {},
   "outputs": [
    {
     "ename": "KeyError",
     "evalue": "\"['nivel_tarjeta'] not found in axis\"",
     "output_type": "error",
     "traceback": [
      "\u001b[31m---------------------------------------------------------------------------\u001b[39m",
      "\u001b[31mKeyError\u001b[39m                                  Traceback (most recent call last)",
      "\u001b[36mCell\u001b[39m\u001b[36m \u001b[39m\u001b[32mIn[12]\u001b[39m\u001b[32m, line 9\u001b[39m\n\u001b[32m      6\u001b[39m \u001b[38;5;66;03m# Se ejecuta la operación\u001b[39;00m\n\u001b[32m      8\u001b[39m df_creditos.drop(col_eliminar_creditos, inplace=\u001b[38;5;28;01mTrue\u001b[39;00m, axis=\u001b[32m1\u001b[39m)\n\u001b[32m----> \u001b[39m\u001b[32m9\u001b[39m \u001b[43mdf_tarjetas\u001b[49m\u001b[43m.\u001b[49m\u001b[43mdrop\u001b[49m\u001b[43m(\u001b[49m\u001b[43mcol_eliminar_tarjetas\u001b[49m\u001b[43m,\u001b[49m\u001b[43m \u001b[49m\u001b[43minplace\u001b[49m\u001b[43m=\u001b[49m\u001b[38;5;28;43;01mTrue\u001b[39;49;00m\u001b[43m,\u001b[49m\u001b[43m \u001b[49m\u001b[43maxis\u001b[49m\u001b[43m=\u001b[49m\u001b[32;43m1\u001b[39;49m\u001b[43m)\u001b[49m\n",
      "\u001b[36mFile \u001b[39m\u001b[32mc:\\Users\\monic\\OneDrive - Universidad internacional de valencia\\2º cuatri\\13MBID- Metodologías de gestión y diseño de proyectos Big Data\\Practica\\13MBID-Actividades\\env\\Lib\\site-packages\\pandas\\core\\frame.py:5588\u001b[39m, in \u001b[36mDataFrame.drop\u001b[39m\u001b[34m(self, labels, axis, index, columns, level, inplace, errors)\u001b[39m\n\u001b[32m   5440\u001b[39m \u001b[38;5;28;01mdef\u001b[39;00m\u001b[38;5;250m \u001b[39m\u001b[34mdrop\u001b[39m(\n\u001b[32m   5441\u001b[39m     \u001b[38;5;28mself\u001b[39m,\n\u001b[32m   5442\u001b[39m     labels: IndexLabel | \u001b[38;5;28;01mNone\u001b[39;00m = \u001b[38;5;28;01mNone\u001b[39;00m,\n\u001b[32m   (...)\u001b[39m\u001b[32m   5449\u001b[39m     errors: IgnoreRaise = \u001b[33m\"\u001b[39m\u001b[33mraise\u001b[39m\u001b[33m\"\u001b[39m,\n\u001b[32m   5450\u001b[39m ) -> DataFrame | \u001b[38;5;28;01mNone\u001b[39;00m:\n\u001b[32m   5451\u001b[39m \u001b[38;5;250m    \u001b[39m\u001b[33;03m\"\"\"\u001b[39;00m\n\u001b[32m   5452\u001b[39m \u001b[33;03m    Drop specified labels from rows or columns.\u001b[39;00m\n\u001b[32m   5453\u001b[39m \n\u001b[32m   (...)\u001b[39m\u001b[32m   5586\u001b[39m \u001b[33;03m            weight  1.0     0.8\u001b[39;00m\n\u001b[32m   5587\u001b[39m \u001b[33;03m    \"\"\"\u001b[39;00m\n\u001b[32m-> \u001b[39m\u001b[32m5588\u001b[39m     \u001b[38;5;28;01mreturn\u001b[39;00m \u001b[38;5;28;43msuper\u001b[39;49m\u001b[43m(\u001b[49m\u001b[43m)\u001b[49m\u001b[43m.\u001b[49m\u001b[43mdrop\u001b[49m\u001b[43m(\u001b[49m\n\u001b[32m   5589\u001b[39m \u001b[43m        \u001b[49m\u001b[43mlabels\u001b[49m\u001b[43m=\u001b[49m\u001b[43mlabels\u001b[49m\u001b[43m,\u001b[49m\n\u001b[32m   5590\u001b[39m \u001b[43m        \u001b[49m\u001b[43maxis\u001b[49m\u001b[43m=\u001b[49m\u001b[43maxis\u001b[49m\u001b[43m,\u001b[49m\n\u001b[32m   5591\u001b[39m \u001b[43m        \u001b[49m\u001b[43mindex\u001b[49m\u001b[43m=\u001b[49m\u001b[43mindex\u001b[49m\u001b[43m,\u001b[49m\n\u001b[32m   5592\u001b[39m \u001b[43m        \u001b[49m\u001b[43mcolumns\u001b[49m\u001b[43m=\u001b[49m\u001b[43mcolumns\u001b[49m\u001b[43m,\u001b[49m\n\u001b[32m   5593\u001b[39m \u001b[43m        \u001b[49m\u001b[43mlevel\u001b[49m\u001b[43m=\u001b[49m\u001b[43mlevel\u001b[49m\u001b[43m,\u001b[49m\n\u001b[32m   5594\u001b[39m \u001b[43m        \u001b[49m\u001b[43minplace\u001b[49m\u001b[43m=\u001b[49m\u001b[43minplace\u001b[49m\u001b[43m,\u001b[49m\n\u001b[32m   5595\u001b[39m \u001b[43m        \u001b[49m\u001b[43merrors\u001b[49m\u001b[43m=\u001b[49m\u001b[43merrors\u001b[49m\u001b[43m,\u001b[49m\n\u001b[32m   5596\u001b[39m \u001b[43m    \u001b[49m\u001b[43m)\u001b[49m\n",
      "\u001b[36mFile \u001b[39m\u001b[32mc:\\Users\\monic\\OneDrive - Universidad internacional de valencia\\2º cuatri\\13MBID- Metodologías de gestión y diseño de proyectos Big Data\\Practica\\13MBID-Actividades\\env\\Lib\\site-packages\\pandas\\core\\generic.py:4807\u001b[39m, in \u001b[36mNDFrame.drop\u001b[39m\u001b[34m(self, labels, axis, index, columns, level, inplace, errors)\u001b[39m\n\u001b[32m   4805\u001b[39m \u001b[38;5;28;01mfor\u001b[39;00m axis, labels \u001b[38;5;129;01min\u001b[39;00m axes.items():\n\u001b[32m   4806\u001b[39m     \u001b[38;5;28;01mif\u001b[39;00m labels \u001b[38;5;129;01mis\u001b[39;00m \u001b[38;5;129;01mnot\u001b[39;00m \u001b[38;5;28;01mNone\u001b[39;00m:\n\u001b[32m-> \u001b[39m\u001b[32m4807\u001b[39m         obj = \u001b[43mobj\u001b[49m\u001b[43m.\u001b[49m\u001b[43m_drop_axis\u001b[49m\u001b[43m(\u001b[49m\u001b[43mlabels\u001b[49m\u001b[43m,\u001b[49m\u001b[43m \u001b[49m\u001b[43maxis\u001b[49m\u001b[43m,\u001b[49m\u001b[43m \u001b[49m\u001b[43mlevel\u001b[49m\u001b[43m=\u001b[49m\u001b[43mlevel\u001b[49m\u001b[43m,\u001b[49m\u001b[43m \u001b[49m\u001b[43merrors\u001b[49m\u001b[43m=\u001b[49m\u001b[43merrors\u001b[49m\u001b[43m)\u001b[49m\n\u001b[32m   4809\u001b[39m \u001b[38;5;28;01mif\u001b[39;00m inplace:\n\u001b[32m   4810\u001b[39m     \u001b[38;5;28mself\u001b[39m._update_inplace(obj)\n",
      "\u001b[36mFile \u001b[39m\u001b[32mc:\\Users\\monic\\OneDrive - Universidad internacional de valencia\\2º cuatri\\13MBID- Metodologías de gestión y diseño de proyectos Big Data\\Practica\\13MBID-Actividades\\env\\Lib\\site-packages\\pandas\\core\\generic.py:4849\u001b[39m, in \u001b[36mNDFrame._drop_axis\u001b[39m\u001b[34m(self, labels, axis, level, errors, only_slice)\u001b[39m\n\u001b[32m   4847\u001b[39m         new_axis = axis.drop(labels, level=level, errors=errors)\n\u001b[32m   4848\u001b[39m     \u001b[38;5;28;01melse\u001b[39;00m:\n\u001b[32m-> \u001b[39m\u001b[32m4849\u001b[39m         new_axis = \u001b[43maxis\u001b[49m\u001b[43m.\u001b[49m\u001b[43mdrop\u001b[49m\u001b[43m(\u001b[49m\u001b[43mlabels\u001b[49m\u001b[43m,\u001b[49m\u001b[43m \u001b[49m\u001b[43merrors\u001b[49m\u001b[43m=\u001b[49m\u001b[43merrors\u001b[49m\u001b[43m)\u001b[49m\n\u001b[32m   4850\u001b[39m     indexer = axis.get_indexer(new_axis)\n\u001b[32m   4852\u001b[39m \u001b[38;5;66;03m# Case for non-unique axis\u001b[39;00m\n\u001b[32m   4853\u001b[39m \u001b[38;5;28;01melse\u001b[39;00m:\n",
      "\u001b[36mFile \u001b[39m\u001b[32mc:\\Users\\monic\\OneDrive - Universidad internacional de valencia\\2º cuatri\\13MBID- Metodologías de gestión y diseño de proyectos Big Data\\Practica\\13MBID-Actividades\\env\\Lib\\site-packages\\pandas\\core\\indexes\\base.py:7098\u001b[39m, in \u001b[36mIndex.drop\u001b[39m\u001b[34m(self, labels, errors)\u001b[39m\n\u001b[32m   7096\u001b[39m \u001b[38;5;28;01mif\u001b[39;00m mask.any():\n\u001b[32m   7097\u001b[39m     \u001b[38;5;28;01mif\u001b[39;00m errors != \u001b[33m\"\u001b[39m\u001b[33mignore\u001b[39m\u001b[33m\"\u001b[39m:\n\u001b[32m-> \u001b[39m\u001b[32m7098\u001b[39m         \u001b[38;5;28;01mraise\u001b[39;00m \u001b[38;5;167;01mKeyError\u001b[39;00m(\u001b[33mf\u001b[39m\u001b[33m\"\u001b[39m\u001b[38;5;132;01m{\u001b[39;00mlabels[mask].tolist()\u001b[38;5;132;01m}\u001b[39;00m\u001b[33m not found in axis\u001b[39m\u001b[33m\"\u001b[39m)\n\u001b[32m   7099\u001b[39m     indexer = indexer[~mask]\n\u001b[32m   7100\u001b[39m \u001b[38;5;28;01mreturn\u001b[39;00m \u001b[38;5;28mself\u001b[39m.delete(indexer)\n",
      "\u001b[31mKeyError\u001b[39m: \"['nivel_tarjeta'] not found in axis\""
     ]
    }
   ],
   "source": [
    "# Se establece qué columnas se eliminan\n",
    "\n",
    "col_eliminar_creditos = []\n",
    "col_eliminar_tarjetas = ['nivel_tarjeta']\n",
    "\n",
    "# Se ejecuta la operación\n",
    "\n",
    "df_creditos.drop(col_eliminar_creditos, inplace=True, axis=1)\n",
    "df_tarjetas.drop(col_eliminar_tarjetas, inplace=True, axis=1)"
   ]
  },
  {
   "cell_type": "code",
   "execution_count": 5,
   "metadata": {},
   "outputs": [
    {
     "name": "stdout",
     "output_type": "stream",
     "text": [
      "Vista del dataset de datos de créditos:\n"
     ]
    },
    {
     "data": {
      "text/html": [
       "<div>\n",
       "<style scoped>\n",
       "    .dataframe tbody tr th:only-of-type {\n",
       "        vertical-align: middle;\n",
       "    }\n",
       "\n",
       "    .dataframe tbody tr th {\n",
       "        vertical-align: top;\n",
       "    }\n",
       "\n",
       "    .dataframe thead th {\n",
       "        text-align: right;\n",
       "    }\n",
       "</style>\n",
       "<table border=\"1\" class=\"dataframe\">\n",
       "  <thead>\n",
       "    <tr style=\"text-align: right;\">\n",
       "      <th></th>\n",
       "      <th>id_cliente</th>\n",
       "      <th>edad</th>\n",
       "      <th>importe_solicitado</th>\n",
       "      <th>duracion_credito</th>\n",
       "      <th>antiguedad_empleado</th>\n",
       "      <th>situacion_vivienda</th>\n",
       "      <th>ingresos</th>\n",
       "      <th>objetivo_credito</th>\n",
       "      <th>pct_ingreso</th>\n",
       "      <th>tasa_interes</th>\n",
       "      <th>estado_credito</th>\n",
       "      <th>falta_pago</th>\n",
       "    </tr>\n",
       "  </thead>\n",
       "  <tbody>\n",
       "    <tr>\n",
       "      <th>0</th>\n",
       "      <td>713061558.0</td>\n",
       "      <td>22</td>\n",
       "      <td>35000</td>\n",
       "      <td>3</td>\n",
       "      <td>123.0</td>\n",
       "      <td>ALQUILER</td>\n",
       "      <td>59000</td>\n",
       "      <td>PERSONAL</td>\n",
       "      <td>0.59</td>\n",
       "      <td>16.02</td>\n",
       "      <td>1</td>\n",
       "      <td>Y</td>\n",
       "    </tr>\n",
       "  </tbody>\n",
       "</table>\n",
       "</div>"
      ],
      "text/plain": [
       "    id_cliente  edad  importe_solicitado  duracion_credito  \\\n",
       "0  713061558.0    22               35000                 3   \n",
       "\n",
       "   antiguedad_empleado situacion_vivienda  ingresos objetivo_credito  \\\n",
       "0                123.0           ALQUILER     59000         PERSONAL   \n",
       "\n",
       "   pct_ingreso  tasa_interes  estado_credito falta_pago  \n",
       "0         0.59         16.02               1          Y  "
      ]
     },
     "metadata": {},
     "output_type": "display_data"
    },
    {
     "name": "stdout",
     "output_type": "stream",
     "text": [
      "Vista del dataset de datos de tarjetas:\n"
     ]
    },
    {
     "data": {
      "text/html": [
       "<div>\n",
       "<style scoped>\n",
       "    .dataframe tbody tr th:only-of-type {\n",
       "        vertical-align: middle;\n",
       "    }\n",
       "\n",
       "    .dataframe tbody tr th {\n",
       "        vertical-align: top;\n",
       "    }\n",
       "\n",
       "    .dataframe thead th {\n",
       "        text-align: right;\n",
       "    }\n",
       "</style>\n",
       "<table border=\"1\" class=\"dataframe\">\n",
       "  <thead>\n",
       "    <tr style=\"text-align: right;\">\n",
       "      <th></th>\n",
       "      <th>id_cliente</th>\n",
       "      <th>antiguedad_cliente</th>\n",
       "      <th>estado_civil</th>\n",
       "      <th>estado_cliente</th>\n",
       "      <th>gastos_ult_12m</th>\n",
       "      <th>genero</th>\n",
       "      <th>limite_credito_tc</th>\n",
       "      <th>nivel_educativo</th>\n",
       "      <th>operaciones_ult_12m</th>\n",
       "      <th>personas_a_cargo</th>\n",
       "    </tr>\n",
       "  </thead>\n",
       "  <tbody>\n",
       "    <tr>\n",
       "      <th>0</th>\n",
       "      <td>713061558.0</td>\n",
       "      <td>36.0</td>\n",
       "      <td>CASADO</td>\n",
       "      <td>ACTIVO</td>\n",
       "      <td>1088.0</td>\n",
       "      <td>M</td>\n",
       "      <td>4010.0</td>\n",
       "      <td>UNIVERSITARIO_COMPLETO</td>\n",
       "      <td>24.0</td>\n",
       "      <td>2.0</td>\n",
       "    </tr>\n",
       "  </tbody>\n",
       "</table>\n",
       "</div>"
      ],
      "text/plain": [
       "    id_cliente  antiguedad_cliente estado_civil estado_cliente  \\\n",
       "0  713061558.0                36.0       CASADO         ACTIVO   \n",
       "\n",
       "   gastos_ult_12m genero  limite_credito_tc         nivel_educativo  \\\n",
       "0          1088.0      M             4010.0  UNIVERSITARIO_COMPLETO   \n",
       "\n",
       "   operaciones_ult_12m  personas_a_cargo  \n",
       "0                 24.0               2.0  "
      ]
     },
     "metadata": {},
     "output_type": "display_data"
    }
   ],
   "source": [
    "print(\"Vista del dataset de datos de créditos:\")\n",
    "display(df_creditos.head(1))\n",
    "\n",
    "print(\"Vista del dataset de datos de tarjetas:\")\n",
    "display(df_tarjetas.head(1))"
   ]
  },
  {
   "cell_type": "markdown",
   "metadata": {},
   "source": [
    "Limpieza de los datos (filtrado a nivel de filas)"
   ]
  },
  {
   "cell_type": "code",
   "execution_count": 6,
   "metadata": {},
   "outputs": [
    {
     "data": {
      "text/html": [
       "<div>\n",
       "<style scoped>\n",
       "    .dataframe tbody tr th:only-of-type {\n",
       "        vertical-align: middle;\n",
       "    }\n",
       "\n",
       "    .dataframe tbody tr th {\n",
       "        vertical-align: top;\n",
       "    }\n",
       "\n",
       "    .dataframe thead th {\n",
       "        text-align: right;\n",
       "    }\n",
       "</style>\n",
       "<table border=\"1\" class=\"dataframe\">\n",
       "  <thead>\n",
       "    <tr style=\"text-align: right;\">\n",
       "      <th></th>\n",
       "      <th>id_cliente</th>\n",
       "      <th>edad</th>\n",
       "      <th>importe_solicitado</th>\n",
       "      <th>duracion_credito</th>\n",
       "      <th>antiguedad_empleado</th>\n",
       "      <th>situacion_vivienda</th>\n",
       "      <th>ingresos</th>\n",
       "      <th>objetivo_credito</th>\n",
       "      <th>pct_ingreso</th>\n",
       "      <th>tasa_interes</th>\n",
       "      <th>estado_credito</th>\n",
       "      <th>falta_pago</th>\n",
       "      <th>regla_pct_ingresos</th>\n",
       "    </tr>\n",
       "  </thead>\n",
       "  <tbody>\n",
       "    <tr>\n",
       "      <th>0</th>\n",
       "      <td>713061558.0</td>\n",
       "      <td>22</td>\n",
       "      <td>35000</td>\n",
       "      <td>3</td>\n",
       "      <td>123.0</td>\n",
       "      <td>ALQUILER</td>\n",
       "      <td>59000</td>\n",
       "      <td>PERSONAL</td>\n",
       "      <td>0.59</td>\n",
       "      <td>16.02</td>\n",
       "      <td>1</td>\n",
       "      <td>Y</td>\n",
       "      <td>ok</td>\n",
       "    </tr>\n",
       "    <tr>\n",
       "      <th>1</th>\n",
       "      <td>768805383.0</td>\n",
       "      <td>21</td>\n",
       "      <td>1000</td>\n",
       "      <td>2</td>\n",
       "      <td>5.0</td>\n",
       "      <td>PROPIA</td>\n",
       "      <td>9600</td>\n",
       "      <td>EDUCACIÓN</td>\n",
       "      <td>0.10</td>\n",
       "      <td>11.14</td>\n",
       "      <td>0</td>\n",
       "      <td>N</td>\n",
       "      <td>ok</td>\n",
       "    </tr>\n",
       "    <tr>\n",
       "      <th>2</th>\n",
       "      <td>818770008.0</td>\n",
       "      <td>25</td>\n",
       "      <td>5500</td>\n",
       "      <td>3</td>\n",
       "      <td>1.0</td>\n",
       "      <td>HIPOTECA</td>\n",
       "      <td>9600</td>\n",
       "      <td>SALUD</td>\n",
       "      <td>0.57</td>\n",
       "      <td>12.87</td>\n",
       "      <td>1</td>\n",
       "      <td>N</td>\n",
       "      <td>err</td>\n",
       "    </tr>\n",
       "    <tr>\n",
       "      <th>3</th>\n",
       "      <td>713982108.0</td>\n",
       "      <td>23</td>\n",
       "      <td>35000</td>\n",
       "      <td>2</td>\n",
       "      <td>4.0</td>\n",
       "      <td>ALQUILER</td>\n",
       "      <td>65500</td>\n",
       "      <td>SALUD</td>\n",
       "      <td>0.53</td>\n",
       "      <td>15.23</td>\n",
       "      <td>1</td>\n",
       "      <td>N</td>\n",
       "      <td>ok</td>\n",
       "    </tr>\n",
       "    <tr>\n",
       "      <th>4</th>\n",
       "      <td>710821833.0</td>\n",
       "      <td>24</td>\n",
       "      <td>35000</td>\n",
       "      <td>4</td>\n",
       "      <td>8.0</td>\n",
       "      <td>ALQUILER</td>\n",
       "      <td>54400</td>\n",
       "      <td>SALUD</td>\n",
       "      <td>0.55</td>\n",
       "      <td>14.27</td>\n",
       "      <td>1</td>\n",
       "      <td>Y</td>\n",
       "      <td>ok</td>\n",
       "    </tr>\n",
       "  </tbody>\n",
       "</table>\n",
       "</div>"
      ],
      "text/plain": [
       "    id_cliente  edad  importe_solicitado  duracion_credito  \\\n",
       "0  713061558.0    22               35000                 3   \n",
       "1  768805383.0    21                1000                 2   \n",
       "2  818770008.0    25                5500                 3   \n",
       "3  713982108.0    23               35000                 2   \n",
       "4  710821833.0    24               35000                 4   \n",
       "\n",
       "   antiguedad_empleado situacion_vivienda  ingresos objetivo_credito  \\\n",
       "0                123.0           ALQUILER     59000         PERSONAL   \n",
       "1                  5.0             PROPIA      9600        EDUCACIÓN   \n",
       "2                  1.0           HIPOTECA      9600            SALUD   \n",
       "3                  4.0           ALQUILER     65500            SALUD   \n",
       "4                  8.0           ALQUILER     54400            SALUD   \n",
       "\n",
       "   pct_ingreso  tasa_interes  estado_credito falta_pago regla_pct_ingresos  \n",
       "0         0.59         16.02               1          Y                 ok  \n",
       "1         0.10         11.14               0          N                 ok  \n",
       "2         0.57         12.87               1          N                err  \n",
       "3         0.53         15.23               1          N                 ok  \n",
       "4         0.55         14.27               1          Y                 ok  "
      ]
     },
     "execution_count": 6,
     "metadata": {},
     "output_type": "execute_result"
    }
   ],
   "source": [
    "#Se puede definir una función para aplicar los cálculos\n",
    "def regla_pct_ingresos_credito(row):\n",
    "    pct_ingreso = row.pct_ingreso\n",
    "    ingresos = row.ingresos\n",
    "    \n",
    "    if pct_ingreso > 0.5 and ingresos <= 20000:\n",
    "        # Es un error, no cumple la regla definida\n",
    "        return 'err'\n",
    "    else:\n",
    "        return 'ok'\n",
    "\n",
    "\n",
    "# Se aplica la función para todos los elementos del dataset\n",
    "regla_pct_ingresos = df_creditos.apply(lambda row: regla_pct_ingresos_credito(row), axis=1).rename(\"regla_pct_ingresos\")\n",
    "\n",
    "# Se unen los resultados al dataset inicial\n",
    "df_creditos = pd.concat([df_creditos, regla_pct_ingresos], axis=1)\n",
    "df_creditos.head(5)  "
   ]
  },
  {
   "cell_type": "code",
   "execution_count": 7,
   "metadata": {},
   "outputs": [],
   "source": [
    "#Función para la regla 2\n",
    "# Obtener la duración mínima del crédito\n",
    "duracion_min = df_creditos['duracion_credito'].min()\n",
    "\n",
    "# Definir la función que aplica la regla\n",
    "def regla_duracion_minima(row):\n",
    "    if (\n",
    "        row.duracion_credito == duracion_min and\n",
    "        row.pct_ingreso > 0.60 and\n",
    "        row.situacion_vivienda.lower() != 'propietario'\n",
    "    ):\n",
    "        return 'err'  # No cumple la regla\n",
    "    else:\n",
    "        return 'ok'   # Cumple la regla\n",
    "\n",
    "# Aplicar la función a cada fila\n",
    "regla_pct_duracion = df_creditos.apply(lambda row: regla_duracion_minima(row), axis=1).rename(\"regla_duracion_pct\")\n",
    "\n",
    "# Añadir la columna al DataFrame\n",
    "df_creditos = pd.concat([df_creditos, regla_pct_duracion], axis=1)"
   ]
  },
  {
   "cell_type": "code",
   "execution_count": 9,
   "metadata": {},
   "outputs": [
    {
     "name": "stdout",
     "output_type": "stream",
     "text": [
      "Filas antes del filtro: 10127\n",
      "Filas después del filtro: 9764\n"
     ]
    }
   ],
   "source": [
    "# Se filtran las filas con algún error detectado\n",
    "print(f\"Filas antes del filtro: {df_creditos.shape[0]}\")\n",
    "\n",
    "temp_c = df_creditos[df_creditos['edad'] < 90] # 4\n",
    "\n",
    "# Otro filtro posible: por la regla de negocio agregada\n",
    "\n",
    "temp_c = temp[temp['regla_pct_ingresos'] == 'ok'] # 15\n",
    "\n",
    "# Se filtran las filas con algún error en antiguedad empleado\n",
    "temp_c = temp_c[(temp_c['antiguedad_empleado'].notna()) & (temp_c['antiguedad_empleado'] <= 50)]\n",
    "\n",
    "# Filtro según regla de negocio #2\n",
    "temp_c = temp_c[temp_c['regla_duracion_pct'] == 'ok']\n",
    "\n",
    "print(f\"Filas después del filtro: {temp_c.shape[0]}\")"
   ]
  },
  {
   "cell_type": "code",
   "execution_count": null,
   "metadata": {},
   "outputs": [],
   "source": [
    "temp_c = temp_c.drop(columns=['regla_duracion_pct','regla_pct_ingresos'])\n"
   ]
  },
  {
   "cell_type": "markdown",
   "metadata": {},
   "source": [
    "Integración de datos"
   ]
  },
  {
   "cell_type": "code",
   "execution_count": 37,
   "metadata": {},
   "outputs": [
    {
     "name": "stdout",
     "output_type": "stream",
     "text": [
      "Filas del dataset integrado con los filtros realizados: 9764\n"
     ]
    }
   ],
   "source": [
    "df_integrado = pd.merge(temp_c, df_tarjetas, on='id_cliente', how='inner')\n",
    "coincidencias = df_integrado.shape[0]\n",
    "\n",
    "print(f\"Filas del dataset integrado con los filtros realizados: {coincidencias}\")"
   ]
  },
  {
   "cell_type": "code",
   "execution_count": 38,
   "metadata": {},
   "outputs": [
    {
     "name": "stdout",
     "output_type": "stream",
     "text": [
      "Cantidad de columnas del dataset integrado: 21\n"
     ]
    }
   ],
   "source": [
    "print(f\"Cantidad de columnas del dataset integrado: {df_integrado.shape[1]}\")"
   ]
  },
  {
   "cell_type": "code",
   "execution_count": 39,
   "metadata": {},
   "outputs": [
    {
     "data": {
      "text/html": [
       "<div>\n",
       "<style scoped>\n",
       "    .dataframe tbody tr th:only-of-type {\n",
       "        vertical-align: middle;\n",
       "    }\n",
       "\n",
       "    .dataframe tbody tr th {\n",
       "        vertical-align: top;\n",
       "    }\n",
       "\n",
       "    .dataframe thead th {\n",
       "        text-align: right;\n",
       "    }\n",
       "</style>\n",
       "<table border=\"1\" class=\"dataframe\">\n",
       "  <thead>\n",
       "    <tr style=\"text-align: right;\">\n",
       "      <th></th>\n",
       "      <th>id_cliente</th>\n",
       "      <th>edad</th>\n",
       "      <th>importe_solicitado</th>\n",
       "      <th>duracion_credito</th>\n",
       "      <th>antiguedad_empleado</th>\n",
       "      <th>situacion_vivienda</th>\n",
       "      <th>ingresos</th>\n",
       "      <th>objetivo_credito</th>\n",
       "      <th>pct_ingreso</th>\n",
       "      <th>tasa_interes</th>\n",
       "      <th>...</th>\n",
       "      <th>falta_pago</th>\n",
       "      <th>antiguedad_cliente</th>\n",
       "      <th>estado_civil</th>\n",
       "      <th>estado_cliente</th>\n",
       "      <th>gastos_ult_12m</th>\n",
       "      <th>genero</th>\n",
       "      <th>limite_credito_tc</th>\n",
       "      <th>nivel_educativo</th>\n",
       "      <th>operaciones_ult_12m</th>\n",
       "      <th>personas_a_cargo</th>\n",
       "    </tr>\n",
       "  </thead>\n",
       "  <tbody>\n",
       "    <tr>\n",
       "      <th>0</th>\n",
       "      <td>768805383.0</td>\n",
       "      <td>21</td>\n",
       "      <td>1000</td>\n",
       "      <td>2</td>\n",
       "      <td>5.0</td>\n",
       "      <td>PROPIA</td>\n",
       "      <td>9600</td>\n",
       "      <td>EDUCACIÓN</td>\n",
       "      <td>0.1</td>\n",
       "      <td>11.14</td>\n",
       "      <td>...</td>\n",
       "      <td>N</td>\n",
       "      <td>39.0</td>\n",
       "      <td>CASADO</td>\n",
       "      <td>ACTIVO</td>\n",
       "      <td>1144.0</td>\n",
       "      <td>M</td>\n",
       "      <td>12691.0</td>\n",
       "      <td>SECUNDARIO_COMPLETO</td>\n",
       "      <td>42.0</td>\n",
       "      <td>3.0</td>\n",
       "    </tr>\n",
       "  </tbody>\n",
       "</table>\n",
       "<p>1 rows × 21 columns</p>\n",
       "</div>"
      ],
      "text/plain": [
       "    id_cliente  edad  importe_solicitado  duracion_credito  \\\n",
       "0  768805383.0    21                1000                 2   \n",
       "\n",
       "   antiguedad_empleado situacion_vivienda  ingresos objetivo_credito  \\\n",
       "0                  5.0             PROPIA      9600        EDUCACIÓN   \n",
       "\n",
       "   pct_ingreso  tasa_interes  ...  falta_pago antiguedad_cliente  \\\n",
       "0          0.1         11.14  ...           N               39.0   \n",
       "\n",
       "   estado_civil estado_cliente gastos_ult_12m  genero limite_credito_tc  \\\n",
       "0        CASADO         ACTIVO         1144.0       M           12691.0   \n",
       "\n",
       "       nivel_educativo operaciones_ult_12m  personas_a_cargo  \n",
       "0  SECUNDARIO_COMPLETO                42.0               3.0  \n",
       "\n",
       "[1 rows x 21 columns]"
      ]
     },
     "execution_count": 39,
     "metadata": {},
     "output_type": "execute_result"
    }
   ],
   "source": [
    "df_integrado.head(1)"
   ]
  },
  {
   "cell_type": "markdown",
   "metadata": {},
   "source": [
    "#### Transformación de atributos\n",
    "\n",
    "Atributos nominales que se modifican los valores"
   ]
  },
  {
   "cell_type": "code",
   "execution_count": 41,
   "metadata": {},
   "outputs": [],
   "source": [
    "# Columna: estado_civil\n",
    "cambios_estado_civil = {\n",
    "    'CASADO' : 'C',\n",
    "    'SOLTERO' : 'S',\n",
    "    'DESCONOCIDO' : 'N',\n",
    "    'DIVORCIADO' : 'D',\n",
    "}\n",
    "\n",
    "estado_civil_N = df_integrado.loc[:, ('estado_civil')].map(cambios_estado_civil).rename('estado_civil_N')\n",
    "\n",
    "# Columna: estado_credito\n",
    "cambios_estado_credito = {\n",
    "    0: 'P',\n",
    "    1 : 'C',\n",
    "}\n",
    "\n",
    "estado_credito_N = df_integrado.loc[:, ('estado_credito')].map(cambios_estado_credito).rename('estado_credito_N')\n",
    "\n",
    "# Sobre este resultado será necesario eliminar las columnas auxiliares"
   ]
  },
  {
   "cell_type": "markdown",
   "metadata": {},
   "source": [
    "Atributos numéricos que se discretizan"
   ]
  },
  {
   "cell_type": "code",
   "execution_count": 42,
   "metadata": {},
   "outputs": [
    {
     "data": {
      "text/plain": [
       "count    9764.000000\n",
       "mean        3.917657\n",
       "std         2.850392\n",
       "min         0.000000\n",
       "25%         2.000000\n",
       "50%         4.000000\n",
       "75%         6.000000\n",
       "max        11.000000\n",
       "Name: antiguedad_empleado, dtype: float64"
      ]
     },
     "execution_count": 42,
     "metadata": {},
     "output_type": "execute_result"
    }
   ],
   "source": [
    "df_integrado['antiguedad_empleado'].describe()"
   ]
  },
  {
   "cell_type": "code",
   "execution_count": null,
   "metadata": {},
   "outputs": [
    {
     "data": {
      "text/plain": [
       "operaciones_ult_12m\n",
       "50_a_75      3269\n",
       "75_a_100     2915\n",
       "30_a_50      2319\n",
       "mayor_100     670\n",
       "15_a_30       567\n",
       "menor_15       24\n",
       "Name: count, dtype: int64"
      ]
     },
     "execution_count": 46,
     "metadata": {},
     "output_type": "execute_result"
    }
   ],
   "source": [
    "# Antiguedad del empleado\n",
    "\n",
    "etiquetas_a_e = ['menor_5', '5_a_10', 'mayor_10']\n",
    "rangos_a_e = [0, 4, 10, 50]\n",
    "valor_para_nan = 'NA'\n",
    "antiguedad_empleados_N = pd.cut(df_integrado['antiguedad_empleado'], \n",
    "                                bins=rangos_a_e, \n",
    "                                labels=etiquetas_a_e,\n",
    "                                right=False).cat.add_categories(valor_para_nan).fillna(valor_para_nan)\n",
    "\n",
    "antiguedad_empleados_N.value_counts()\n",
    "\n",
    "# edad\n",
    "\n",
    "etiquetas_e = ['menor_25', '25_a_30']\n",
    "rangos_e = [0, 24, 50]\n",
    "edad_N = pd.cut(df_integrado['edad'], \n",
    "                                bins=rangos_e, \n",
    "                                labels=etiquetas_e)\n",
    "\n",
    "edad_N.value_counts()\n",
    "\n",
    "# pct_ingreso\n",
    "\n",
    "etiquetas_p_i = ['hasta_20', '20_a_40', '40_a_60', 'mayor_60']\n",
    "rangos_p_i = [0, 0.19, 0.39, 0.60, 0.99]\n",
    "pct_ingreso_N = pd.cut(df_integrado['pct_ingreso'], \n",
    "                                bins=rangos_p_i, \n",
    "                                labels=etiquetas_p_i)\n",
    "\n",
    "pct_ingreso_N.value_counts()\n",
    "\n",
    "# ingresos\n",
    "\n",
    "etiquetas_i = ['hasta_20k', '20k_a_50k', '50k_a_100k', 'mayor_100k']\n",
    "rangos_i = [0, 19999, 49999, 99999, 999999]\n",
    "ingresos_N = pd.cut(df_integrado['ingresos'], \n",
    "                                bins=rangos_i, \n",
    "                                labels=etiquetas_i)\n",
    "\n",
    "ingresos_N.value_counts()\n",
    "\n",
    "# tasa_interes\n",
    "\n",
    "etiquetas_t_i = ['hasta_7p', '7p_a_15p', '15p_a_20p', 'mayor_20p']\n",
    "rangos_t_i = [0, 6.99, 14.99, 19.99, 100]\n",
    "tasa_interes_N = pd.cut(df_integrado['tasa_interes'], \n",
    "                                bins=rangos_t_i, \n",
    "                                labels=etiquetas_t_i)\n",
    "\n",
    "tasa_interes_N.value_counts()\n",
    "\n",
    "# antiguedad_cliente\n",
    "\n",
    "etiquetas_a_c = ['menor_2y', '2y_a_4y', 'mayor_4y']\n",
    "rangos_a_c = [0, 24, 48, 100]\n",
    "antiguedad_cliente_N = pd.cut(df_integrado['antiguedad_cliente'], \n",
    "                                bins=rangos_a_c, \n",
    "                                labels=etiquetas_a_c)\n",
    "\n",
    "antiguedad_cliente_N.value_counts()\n",
    "\n",
    "# limite_credito_tc\n",
    "\n",
    "etiquetas_l_tc = ['menor_3k', '3k_a_5k', '5k_a_10k', 'mayor_10k']\n",
    "rangos_l_tc = [0, 2999, 4999, 9999, 100000]\n",
    "limite_credito_tc_N = pd.cut(df_integrado['limite_credito_tc'], \n",
    "                                bins=rangos_l_tc, \n",
    "                                labels=etiquetas_l_tc)\n",
    "\n",
    "limite_credito_tc_N.value_counts()\n",
    "\n",
    "# gastos_ult_12m\n",
    "\n",
    "etiquetas_g_u12 = ['menor_1k', '2k_a_4k', '4k_a_6k', '6k_a_8k', '8k_a_10k', 'mayor_10k']\n",
    "rangos_g_u12 = [0, 999, 3999, 5999, 7999, 9999, 100000]\n",
    "gastos_ult_12m_N = pd.cut(df_integrado['gastos_ult_12m'], \n",
    "                                bins=rangos_g_u12, \n",
    "                                labels=etiquetas_g_u12)\n",
    "\n",
    "gastos_ult_12m_N.value_counts()\n",
    "\n",
    "# operaciones_ult_12m\n",
    "\n",
    "etiquetas_o_u12 = ['menor_15', '15_a_30', '30_a_50', '50_a_75', '75_a_100', 'mayor_100']\n",
    "rangos_o_u12 = [0, 14, 29, 49, 74, 99, 1000]\n",
    "operaciones_ult_12m_N = pd.cut(df_integrado['operaciones_ult_12m'], \n",
    "                                bins=rangos_o_u12, \n",
    "                                labels=etiquetas_o_u12)\n",
    "\n",
    "operaciones_ult_12m_N.value_counts()"
   ]
  },
  {
   "cell_type": "code",
   "execution_count": 47,
   "metadata": {},
   "outputs": [
    {
     "data": {
      "text/plain": [
       "Index(['id_cliente', 'edad', 'importe_solicitado', 'duracion_credito',\n",
       "       'antiguedad_empleado', 'situacion_vivienda', 'ingresos',\n",
       "       'objetivo_credito', 'pct_ingreso', 'tasa_interes', 'estado_credito',\n",
       "       'falta_pago', 'antiguedad_cliente', 'estado_civil', 'estado_cliente',\n",
       "       'gastos_ult_12m', 'genero', 'limite_credito_tc', 'nivel_educativo',\n",
       "       'operaciones_ult_12m', 'personas_a_cargo'],\n",
       "      dtype='object')"
      ]
     },
     "execution_count": 47,
     "metadata": {},
     "output_type": "execute_result"
    }
   ],
   "source": [
    "df_integrado.columns"
   ]
  },
  {
   "cell_type": "code",
   "execution_count": 50,
   "metadata": {},
   "outputs": [
    {
     "data": {
      "text/html": [
       "<div>\n",
       "<style scoped>\n",
       "    .dataframe tbody tr th:only-of-type {\n",
       "        vertical-align: middle;\n",
       "    }\n",
       "\n",
       "    .dataframe tbody tr th {\n",
       "        vertical-align: top;\n",
       "    }\n",
       "\n",
       "    .dataframe thead th {\n",
       "        text-align: right;\n",
       "    }\n",
       "</style>\n",
       "<table border=\"1\" class=\"dataframe\">\n",
       "  <thead>\n",
       "    <tr style=\"text-align: right;\">\n",
       "      <th></th>\n",
       "      <th>operaciones_ult_12m</th>\n",
       "      <th>gastos_ult_12m</th>\n",
       "      <th>limite_credito_tc</th>\n",
       "      <th>antiguedad_cliente</th>\n",
       "      <th>tasa_interes</th>\n",
       "      <th>ingresos</th>\n",
       "      <th>antiguedad_empleado</th>\n",
       "      <th>edad</th>\n",
       "      <th>estado_civil_N</th>\n",
       "      <th>estado_credito_N</th>\n",
       "      <th>importe_solicitado</th>\n",
       "      <th>duracion_credito</th>\n",
       "      <th>situacion_vivienda</th>\n",
       "      <th>objetivo_credito</th>\n",
       "      <th>falta_pago</th>\n",
       "      <th>estado_cliente</th>\n",
       "      <th>genero</th>\n",
       "      <th>nivel_educativo</th>\n",
       "      <th>personas_a_cargo</th>\n",
       "    </tr>\n",
       "  </thead>\n",
       "  <tbody>\n",
       "    <tr>\n",
       "      <th>0</th>\n",
       "      <td>30_a_50</td>\n",
       "      <td>2k_a_4k</td>\n",
       "      <td>mayor_10k</td>\n",
       "      <td>2y_a_4y</td>\n",
       "      <td>7p_a_15p</td>\n",
       "      <td>hasta_20k</td>\n",
       "      <td>5_a_10</td>\n",
       "      <td>menor_25</td>\n",
       "      <td>C</td>\n",
       "      <td>P</td>\n",
       "      <td>1000</td>\n",
       "      <td>2</td>\n",
       "      <td>PROPIA</td>\n",
       "      <td>EDUCACIÓN</td>\n",
       "      <td>N</td>\n",
       "      <td>ACTIVO</td>\n",
       "      <td>M</td>\n",
       "      <td>SECUNDARIO_COMPLETO</td>\n",
       "      <td>3.0</td>\n",
       "    </tr>\n",
       "    <tr>\n",
       "      <th>1</th>\n",
       "      <td>15_a_30</td>\n",
       "      <td>2k_a_4k</td>\n",
       "      <td>3k_a_5k</td>\n",
       "      <td>2y_a_4y</td>\n",
       "      <td>15p_a_20p</td>\n",
       "      <td>50k_a_100k</td>\n",
       "      <td>5_a_10</td>\n",
       "      <td>menor_25</td>\n",
       "      <td>C</td>\n",
       "      <td>C</td>\n",
       "      <td>35000</td>\n",
       "      <td>2</td>\n",
       "      <td>ALQUILER</td>\n",
       "      <td>SALUD</td>\n",
       "      <td>N</td>\n",
       "      <td>ACTIVO</td>\n",
       "      <td>M</td>\n",
       "      <td>UNIVERSITARIO_COMPLETO</td>\n",
       "      <td>3.0</td>\n",
       "    </tr>\n",
       "    <tr>\n",
       "      <th>2</th>\n",
       "      <td>15_a_30</td>\n",
       "      <td>2k_a_4k</td>\n",
       "      <td>5k_a_10k</td>\n",
       "      <td>mayor_4y</td>\n",
       "      <td>7p_a_15p</td>\n",
       "      <td>50k_a_100k</td>\n",
       "      <td>5_a_10</td>\n",
       "      <td>menor_25</td>\n",
       "      <td>C</td>\n",
       "      <td>C</td>\n",
       "      <td>35000</td>\n",
       "      <td>4</td>\n",
       "      <td>ALQUILER</td>\n",
       "      <td>SALUD</td>\n",
       "      <td>Y</td>\n",
       "      <td>ACTIVO</td>\n",
       "      <td>M</td>\n",
       "      <td>DESCONOCIDO</td>\n",
       "      <td>1.0</td>\n",
       "    </tr>\n",
       "    <tr>\n",
       "      <th>3</th>\n",
       "      <td>15_a_30</td>\n",
       "      <td>2k_a_4k</td>\n",
       "      <td>3k_a_5k</td>\n",
       "      <td>2y_a_4y</td>\n",
       "      <td>7p_a_15p</td>\n",
       "      <td>hasta_20k</td>\n",
       "      <td>menor_5</td>\n",
       "      <td>menor_25</td>\n",
       "      <td>N</td>\n",
       "      <td>C</td>\n",
       "      <td>2500</td>\n",
       "      <td>2</td>\n",
       "      <td>PROPIA</td>\n",
       "      <td>INVERSIONES</td>\n",
       "      <td>N</td>\n",
       "      <td>ACTIVO</td>\n",
       "      <td>F</td>\n",
       "      <td>SECUNDARIO_COMPLETO</td>\n",
       "      <td>4.0</td>\n",
       "    </tr>\n",
       "    <tr>\n",
       "      <th>4</th>\n",
       "      <td>15_a_30</td>\n",
       "      <td>menor_1k</td>\n",
       "      <td>3k_a_5k</td>\n",
       "      <td>menor_2y</td>\n",
       "      <td>7p_a_15p</td>\n",
       "      <td>50k_a_100k</td>\n",
       "      <td>5_a_10</td>\n",
       "      <td>25_a_30</td>\n",
       "      <td>C</td>\n",
       "      <td>C</td>\n",
       "      <td>35000</td>\n",
       "      <td>3</td>\n",
       "      <td>ALQUILER</td>\n",
       "      <td>EDUCACIÓN</td>\n",
       "      <td>N</td>\n",
       "      <td>ACTIVO</td>\n",
       "      <td>M</td>\n",
       "      <td>UNIVERSITARIO_INCOMPLETO</td>\n",
       "      <td>3.0</td>\n",
       "    </tr>\n",
       "  </tbody>\n",
       "</table>\n",
       "</div>"
      ],
      "text/plain": [
       "  operaciones_ult_12m gastos_ult_12m limite_credito_tc antiguedad_cliente  \\\n",
       "0             30_a_50        2k_a_4k         mayor_10k            2y_a_4y   \n",
       "1             15_a_30        2k_a_4k           3k_a_5k            2y_a_4y   \n",
       "2             15_a_30        2k_a_4k          5k_a_10k           mayor_4y   \n",
       "3             15_a_30        2k_a_4k           3k_a_5k            2y_a_4y   \n",
       "4             15_a_30       menor_1k           3k_a_5k           menor_2y   \n",
       "\n",
       "  tasa_interes    ingresos antiguedad_empleado      edad estado_civil_N  \\\n",
       "0     7p_a_15p   hasta_20k              5_a_10  menor_25              C   \n",
       "1    15p_a_20p  50k_a_100k              5_a_10  menor_25              C   \n",
       "2     7p_a_15p  50k_a_100k              5_a_10  menor_25              C   \n",
       "3     7p_a_15p   hasta_20k             menor_5  menor_25              N   \n",
       "4     7p_a_15p  50k_a_100k              5_a_10   25_a_30              C   \n",
       "\n",
       "  estado_credito_N  importe_solicitado  duracion_credito situacion_vivienda  \\\n",
       "0                P                1000                 2             PROPIA   \n",
       "1                C               35000                 2           ALQUILER   \n",
       "2                C               35000                 4           ALQUILER   \n",
       "3                C                2500                 2             PROPIA   \n",
       "4                C               35000                 3           ALQUILER   \n",
       "\n",
       "  objetivo_credito falta_pago estado_cliente genero           nivel_educativo  \\\n",
       "0        EDUCACIÓN          N         ACTIVO      M       SECUNDARIO_COMPLETO   \n",
       "1            SALUD          N         ACTIVO      M    UNIVERSITARIO_COMPLETO   \n",
       "2            SALUD          Y         ACTIVO      M               DESCONOCIDO   \n",
       "3      INVERSIONES          N         ACTIVO      F       SECUNDARIO_COMPLETO   \n",
       "4        EDUCACIÓN          N         ACTIVO      M  UNIVERSITARIO_INCOMPLETO   \n",
       "\n",
       "   personas_a_cargo  \n",
       "0               3.0  \n",
       "1               3.0  \n",
       "2               1.0  \n",
       "3               4.0  \n",
       "4               3.0  "
      ]
     },
     "execution_count": 50,
     "metadata": {},
     "output_type": "execute_result"
    }
   ],
   "source": [
    "# Agregar en este listado otros atributos que pudieran discretizarse o transformarse\n",
    "col_eliminar_final = [\n",
    "              'estado_civil',\n",
    "              'estado_credito',\n",
    "              'antiguedad_empleado',\n",
    "              'edad',\n",
    "              'antiguedad_cliente', \n",
    "              'ingresos',\n",
    "              'pct_ingreso', \n",
    "              'tasa_interes',\n",
    "              'gastos_ult_12m', \n",
    "              'limite_credito_tc', \n",
    "              'operaciones_ult_12m',\n",
    "              'id_cliente']\n",
    "\n",
    "df_integrado.drop(col_eliminar_final, inplace=True, axis=1)\n",
    "\n",
    "df_final = pd.concat([operaciones_ult_12m_N, \n",
    "                      gastos_ult_12m_N, \n",
    "                      limite_credito_tc_N, \n",
    "                      antiguedad_cliente_N, \n",
    "                      tasa_interes_N, \n",
    "                      ingresos_N,\n",
    "                      antiguedad_empleados_N, \n",
    "                      edad_N, \n",
    "                      estado_civil_N, \n",
    "                      estado_credito_N,\n",
    "                      df_integrado], axis=1)\n",
    "df_final.head(5)\n"
   ]
  },
  {
   "cell_type": "markdown",
   "metadata": {},
   "source": [
    "Exportación de metadatos"
   ]
  },
  {
   "cell_type": "code",
   "execution_count": 17,
   "metadata": {},
   "outputs": [
    {
     "data": {
      "application/vnd.jupyter.widget-view+json": {
       "model_id": "64d154f2ed014ea2886e735cbcb62e9e",
       "version_major": 2,
       "version_minor": 0
      },
      "text/plain": [
       "Summarize dataset:   0%|          | 0/5 [00:00<?, ?it/s]"
      ]
     },
     "metadata": {},
     "output_type": "display_data"
    },
    {
     "data": {
      "application/vnd.jupyter.widget-view+json": {
       "model_id": "dd8909a812d4461a85504bcd1dca4669",
       "version_major": 2,
       "version_minor": 0
      },
      "text/plain": [
       "Generate report structure:   0%|          | 0/1 [00:00<?, ?it/s]"
      ]
     },
     "metadata": {},
     "output_type": "display_data"
    },
    {
     "data": {
      "application/vnd.jupyter.widget-view+json": {
       "model_id": "c0e34dd1557b4b6fb90dcc2e1e181285",
       "version_major": 2,
       "version_minor": 0
      },
      "text/plain": [
       "Render HTML:   0%|          | 0/1 [00:00<?, ?it/s]"
      ]
     },
     "metadata": {},
     "output_type": "display_data"
    },
    {
     "data": {
      "application/vnd.jupyter.widget-view+json": {
       "model_id": "da67045181cf424383c5fb72f6d9d5eb",
       "version_major": 2,
       "version_minor": 0
      },
      "text/plain": [
       "Export report to file:   0%|          | 0/1 [00:00<?, ?it/s]"
      ]
     },
     "metadata": {},
     "output_type": "display_data"
    }
   ],
   "source": [
    "from ydata_profiling import ProfileReport\n",
    "\n",
    "profile = ProfileReport(df_final, title=\"Reporte de preparación de datos - Dataset integrado\")\n",
    "profile.to_file(\"../../docs/reporte_datos_integrados.html\")"
   ]
  },
  {
   "cell_type": "code",
   "execution_count": 18,
   "metadata": {},
   "outputs": [
    {
     "name": "stdout",
     "output_type": "stream",
     "text": [
      "Cantidad de columnas del dataset final: 20\n",
      "Cantidad de filas del dataset final: 10108\n"
     ]
    }
   ],
   "source": [
    "print(f\"Cantidad de columnas del dataset final: {df_final.shape[1]}\")\n",
    "print(f\"Cantidad de filas del dataset final: {df_final.shape[0]}\")"
   ]
  },
  {
   "cell_type": "markdown",
   "metadata": {},
   "source": [
    "Exportación del dataset"
   ]
  },
  {
   "cell_type": "code",
   "execution_count": 19,
   "metadata": {},
   "outputs": [],
   "source": [
    "df_final.to_csv(\"../../data/final/datos_finales.csv\", sep=';', index=False)"
   ]
  }
 ],
 "metadata": {
  "kernelspec": {
   "display_name": "env",
   "language": "python",
   "name": "python3"
  },
  "language_info": {
   "codemirror_mode": {
    "name": "ipython",
    "version": 3
   },
   "file_extension": ".py",
   "mimetype": "text/x-python",
   "name": "python",
   "nbconvert_exporter": "python",
   "pygments_lexer": "ipython3",
   "version": "3.11.9"
  }
 },
 "nbformat": 4,
 "nbformat_minor": 2
}
