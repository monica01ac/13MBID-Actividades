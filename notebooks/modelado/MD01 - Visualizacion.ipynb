{
 "cells": [
  {
   "cell_type": "markdown",
   "metadata": {},
   "source": [
    "## Máster en Big Data y Data Science\n",
    "\n",
    "### Metodologías de gestión y diseño de proyectos de big data\n",
    "\n",
    "#### AP2 - Visualización de los datos\n",
    "\n",
    "---\n",
    "\n",
    "En esta libreta se generan los modelos de visualización (gráficos) sobre los datasets \n",
    "del escenario para su posterior integración en la herramienta a utilizar. \n",
    "\n",
    "---"
   ]
  },
  {
   "cell_type": "code",
   "execution_count": null,
   "metadata": {},
   "outputs": [],
   "source": [
    "# Importación de librerías\n",
    "\n",
    "import pandas as pd\n",
    "# En esta línea se podría producir un error, se debe instalar plotly\n",
    "import plotly.express as px\n",
    "import plotly.graph_objects as go"
   ]
  },
  {
   "cell_type": "markdown",
   "metadata": {},
   "source": [
    "----\n",
    "\n",
    "##### Lectura del dataset"
   ]
  },
  {
   "cell_type": "code",
   "execution_count": null,
   "metadata": {},
   "outputs": [],
   "source": [
    "df = pd.read_csv(\"../../../data/final/datos_finales.csv\", sep=\";\")\n",
    "df.head(5)"
   ]
  },
  {
   "cell_type": "markdown",
   "metadata": {},
   "source": [
    "----\n",
    "\n",
    "##### Definición de gráficos de interés"
   ]
  },
  {
   "cell_type": "code",
   "execution_count": null,
   "metadata": {},
   "outputs": [],
   "source": [
    "# Cantidad de créditos por objetivo del mismo\n",
    "\n",
    "creditos_x_objetivo = px.histogram(df, x='objetivo_credito', \n",
    "                                   title='Conteo de créditos por objetivo')\n",
    "creditos_x_objetivo.update_layout(xaxis_title='Objetivo del crédito', yaxis_title='Cantidad')"
   ]
  },
  {
   "cell_type": "code",
   "execution_count": null,
   "metadata": {},
   "outputs": [],
   "source": [
    "# Histograma de los importes de créditos otorgados\n",
    "\n",
    "histograma_importes = px.histogram(df, x='importe_solicitado', nbins=10, title='Importes solicitados en créditos')\n",
    "histograma_importes.update_layout(xaxis_title='Importe solicitado', yaxis_title='Cantidad')"
   ]
  },
  {
   "cell_type": "code",
   "execution_count": null,
   "metadata": {},
   "outputs": [],
   "source": [
    "# Conteo de ocurrencias por estado\n",
    "estado_credito_counts = df['estado_credito_N'].value_counts()\n",
    "\n",
    "# Gráfico de torta de estos valores\n",
    "fig = go.Figure(data=[go.Pie(labels=estado_credito_counts.index, values=estado_credito_counts)])\n",
    "fig.update_layout(title_text='Distribución de créditos por estado registrado')\n",
    "fig.show()"
   ]
  },
  {
   "cell_type": "code",
   "execution_count": null,
   "metadata": {},
   "outputs": [],
   "source": [
    "# Conteo de ocurrencias por caso\n",
    "falta_pago_counts = df['falta_pago'].value_counts()\n",
    "\n",
    "# Create a Pie chart\n",
    "fig = go.Figure(data=[go.Pie(labels=falta_pago_counts.index, values=falta_pago_counts)])\n",
    "fig.update_layout(title_text='Distribución de créditos en función de registro de mora')\n",
    "fig.show()"
   ]
  },
  {
   "cell_type": "code",
   "execution_count": null,
   "metadata": {
    "vscode": {
     "languageId": "markdown"
    }
   },
   "outputs": [],
   "source": [
    "# Gráfico de barras apiladas: Comparar la distribución de créditos por estado y objetivo\n",
    "barras_apiladas = px.histogram(df, x='objetivo_credito', color='estado_credito_N', \n",
    "                               title='Distribución de créditos por estado y objetivo',\n",
    "                               barmode='stack')\n",
    "barras_apiladas.update_layout(xaxis_title='Objetivo del crédito', yaxis_title='Cantidad')\n",
    "barras_apiladas.show()"
   ]
  },
  {
   "cell_type": "code",
   "execution_count": null,
   "metadata": {},
   "outputs": [],
   "source": [
    "# Definir el orden personalizado\n",
    "orden_antiguedad = ['menor_2y', '2y_a_4y', 'mayor_4y']\n",
    "\n",
    "# Ordenar los datos según el orden personalizado\n",
    "df_ordenado = df.groupby('antiguedad_cliente')['importe_solicitado'].mean().reset_index()\n",
    "df_ordenado['antiguedad_cliente'] = pd.Categorical(df_ordenado['antiguedad_cliente'], categories=orden_antiguedad, ordered=True)\n",
    "df_ordenado = df_ordenado.sort_values('antiguedad_cliente')\n",
    "\n",
    "# Crear el gráfico de líneas\n",
    "lineas_importes_antiguedad = px.line(df_ordenado, x='antiguedad_cliente', y='importe_solicitado',\n",
    "                                     title='Evolución de los importes solicitados por antigüedad del cliente')\n",
    "lineas_importes_antiguedad.update_layout(xaxis_title='Antigüedad del cliente', yaxis_title='Importe solicitado promedio')\n",
    "lineas_importes_antiguedad.show()"
   ]
  },
  {
   "cell_type": "markdown",
   "metadata": {},
   "source": [
    "Otros gráficos a implementar:\n",
    "\n",
    "1. Distribución de los importes solicitados (`importe_solicitado`) por objetivo del crédito (`objetivo_credito`) en un gráfico de cajas.\n",
    "2. Relación entre el importe solicitado (`importe_solicitado`) con la duración del crédito (`duracion_credito`), coloreado por estado del crédito (`estado_credito_N`) en un gráfico de dispersión.\n",
    "3. Análisis de la correlación entre variables como `importe_solicitado`, `duracion_credito`, y `personas_a_cargo` en un mapa de calor.\n",
    "\n",
    "Entre otros..."
   ]
  }
 ],
 "metadata": {
  "kernelspec": {
   "display_name": ".venv",
   "language": "python",
   "name": "python3"
  },
  "language_info": {
   "codemirror_mode": {
    "name": "ipython",
    "version": 3
   },
   "file_extension": ".py",
   "mimetype": "text/x-python",
   "name": "python",
   "nbconvert_exporter": "python",
   "pygments_lexer": "ipython3",
   "version": "3.12.3"
  }
 },
 "nbformat": 4,
 "nbformat_minor": 2
}
